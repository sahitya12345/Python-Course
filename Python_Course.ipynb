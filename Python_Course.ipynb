{
 "cells": [
  {
   "cell_type": "code",
   "execution_count": null,
   "metadata": {},
   "outputs": [],
   "source": [
    "#Print Statement \n",
    "print(\"Sahitya Satya\")\n",
    "#Variable\n",
    "a =\"Sahitya\"\n",
    "print(a)"
   ]
  },
  {
   "cell_type": "code",
   "execution_count": null,
   "metadata": {},
   "outputs": [],
   "source": [
    "a=int(input(\"Enter number\"))\n",
    "if a>1:\n",
    "    for i in range (2,a):\n",
    "        if a%i==0:\n",
    "            print(\"Not Prime\")\n",
    "            break\n",
    "    else:\n",
    "        print(\"Prime\")\n",
    "else:\n",
    "    print(\"Not Prime\")  "
   ]
  },
  {
   "cell_type": "code",
   "execution_count": null,
   "metadata": {},
   "outputs": [],
   "source": [
    "a=int(input())\n",
    "def Sum(a):\n",
    "    sum=0\n",
    "    for i in str(a):\n",
    "        sum+=int(i)\n",
    "    return sum\n",
    "print(Sum(a))"
   ]
  },
  {
   "cell_type": "code",
   "execution_count": null,
   "metadata": {},
   "outputs": [],
   "source": [
    "def palindrome(s):\n",
    "    if s==s[::-1]:\n",
    "        print(\"yes\")\n",
    "    else:\n",
    "        print(\"no\")\n",
    "palindrome(\"mom\")"
   ]
  },
  {
   "cell_type": "code",
   "execution_count": null,
   "metadata": {},
   "outputs": [],
   "source": [
    "num = int(input(\"Enter a number: \"))\n",
    "sum = 0\n",
    "temp = num\n",
    "while temp > 0:\n",
    " digit = temp % 10\n",
    " sum += digit ** 3\n",
    " temp //= 10\n",
    "if num == sum:\n",
    " print(num,\"is an Armstrong number\")\n",
    "else:\n",
    " print(num,\"is not an Armstrong number\")"
   ]
  },
  {
   "cell_type": "code",
   "execution_count": null,
   "metadata": {},
   "outputs": [],
   "source": [
    "#Comment - Single line\n",
    "''' To use \" \" and ' ' as a part of comment '''\n",
    "'''Multi\n",
    "line\n",
    "comment or string'''"
   ]
  },
  {
   "cell_type": "code",
   "execution_count": null,
   "metadata": {},
   "outputs": [],
   "source": [
    "s= 1+2+3+\\\n",
    "    4+5+6+\\\n",
    "        7+8+9\n",
    "print(s)"
   ]
  },
  {
   "cell_type": "markdown",
   "metadata": {},
   "source": [
    "Python indentation is a way of telling the Python interpreter that a series of statements belong to a particular block of code. \n",
    "Use either the space button or tab button to indent your code.If both are used interchangeably, the interpreter will not be able to interpret the code and hence throws an error.\n"
   ]
  },
  {
   "cell_type": "markdown",
   "metadata": {},
   "source": [
    "In-built functions\n",
    "int() str() float() min() range() max() type() len()"
   ]
  },
  {
   "cell_type": "markdown",
   "metadata": {},
   "source": [
    "Escape Sequence\n",
    "\\n new line\n",
    "\\t tab\n",
    "\\' single quote\n",
    "\\ \\ backslash"
   ]
  },
  {
   "cell_type": "code",
   "execution_count": null,
   "metadata": {},
   "outputs": [],
   "source": [
    "#Type Hints\n",
    "a: str='sam'\n",
    "b: int=1\n",
    "c: float=1.1\n",
    "d: list=[1,2,3]\n",
    "e: dict={1:'a',2:'b'}\n",
    "f: set={1,2,3,1}\n",
    "g: tuple=(1,2,3)\n",
    "h: bool=True\n",
    "print(a,b,c,d,e,f,g,h)"
   ]
  },
  {
   "cell_type": "code",
   "execution_count": null,
   "metadata": {},
   "outputs": [],
   "source": [
    "#Taking Input from user\n",
    "old_age = int(input(\"Enter your age : \"))\n",
    "new_age = old_age + 2\n",
    "print(new_age)"
   ]
  },
  {
   "cell_type": "code",
   "execution_count": 2,
   "metadata": {},
   "outputs": [
    {
     "name": "stdout",
     "output_type": "stream",
     "text": [
      "125\n"
     ]
    }
   ],
   "source": [
    "#Type Casting\n",
    "a=123\n",
    "b=\"2\"\n",
    "b= int(b)\n",
    "print(a+b)"
   ]
  },
  {
   "cell_type": "markdown",
   "metadata": {},
   "source": [
    "Useful converion functions\n",
    "1. float()\n",
    "2. bool()\n",
    "3. str()\n",
    "4. int()"
   ]
  },
  {
   "cell_type": "code",
   "execution_count": null,
   "metadata": {},
   "outputs": [],
   "source": [
    "#Sum of two numbers\n",
    "first_number = float(input(\"Enter 1st number : \"))\n",
    "second_number = float(input(\"Enter 2nd number : \"))\n",
    "sum = int(first_number) + int(second_number)\n",
    "\n",
    "print(\"Sum of two numbers = \"+ str(sum))"
   ]
  },
  {
   "cell_type": "code",
   "execution_count": null,
   "metadata": {},
   "outputs": [],
   "source": [
    "#Global and Local Variables\n",
    "x = 20\n",
    "\n",
    "\n",
    "def my_func():\n",
    "    #global keyword x # to make local x = global x\n",
    "    x = 10\n",
    "    print(\"Value inside function:\", x)\n",
    "\n",
    "\n",
    "my_func()\n",
    "print(\"Value outside function:\", x)\n"
   ]
  },
  {
   "cell_type": "code",
   "execution_count": null,
   "metadata": {},
   "outputs": [],
   "source": [
    "#delete keyword (del)\n",
    "a=5\n",
    "del(a)\n",
    "print(a)"
   ]
  },
  {
   "cell_type": "code",
   "execution_count": null,
   "metadata": {},
   "outputs": [],
   "source": [
    "#Strings\n",
    "name = \"Sahitya Satya\"\n",
    "print(name.upper())\n",
    "print(name.lower())\n",
    "print(name.find('S'))\n",
    "print(name.replace(\"Sahitya Satya\", \"@ I'm Sahitya Satya\"))\n",
    "print(\"a\" in name)  #Bool checks if present or not and returns true or false\n",
    "print(len(name))    #Length\n",
    "print(name.endswith(\"a\"))   #Ending Character\n",
    "print(name.count(\"a\"))      #Find no. of instances\n",
    "print(name.capitalize()) #Makes 1st letter capital\n",
    "\n",
    "x=\"         I'm Sahitya Satya    \"\n",
    "print(x)\n",
    "print(x.strip())    # Removes excess space\n",
    "\n",
    "#String Concatanation we use '+' operator\n",
    "i=2\n",
    "num=6\n",
    "print(str(num) + \" X \" + str(i) + \"=\" + str(i*num))\n",
    "print(f\"{num} X {i}={num*i}\") #f-string, inside {} considered variable and rest as string don't need to use \"\"\n"
   ]
  },
  {
   "cell_type": "code",
   "execution_count": null,
   "metadata": {},
   "outputs": [],
   "source": [
    "#Arithmetic Operators\n",
    "print(5 + 2)\n",
    "print(5 - 2)\n",
    "print(5 * 2)\n",
    "print(5 / 2)    # ceiling division returns float\n",
    "print( 5 // 2)  # floor division returns int\n",
    "print(5 % 2)    # remainder or modululo\n",
    "print(5 ** 2)   # power"
   ]
  },
  {
   "cell_type": "code",
   "execution_count": null,
   "metadata": {},
   "outputs": [],
   "source": [
    "#ShortHand Operators\n",
    "i = 5\n",
    "i = i + 2\n",
    "i += 2\n",
    "i -= 2\n",
    "i *= 2\n",
    "print(i)"
   ]
  },
  {
   "cell_type": "code",
   "execution_count": null,
   "metadata": {},
   "outputs": [],
   "source": [
    "#Operator Precedence\n",
    "result = 3 + 5 * 2 \n",
    "print(result)"
   ]
  },
  {
   "cell_type": "code",
   "execution_count": null,
   "metadata": {},
   "outputs": [],
   "source": [
    "#Comparison Operators\n",
    "1<5\n",
    "2>1\n",
    "5>=1\n",
    "4<=1\n",
    "1!=2\n",
    "1==1"
   ]
  },
  {
   "cell_type": "markdown",
   "metadata": {},
   "source": [
    "Bool or Logical Operators\n",
    "or -> (atleast one is true) \n",
    "and -> (both are true)\n",
    "not -> (reverses any value) "
   ]
  },
  {
   "cell_type": "code",
   "execution_count": null,
   "metadata": {},
   "outputs": [],
   "source": [
    "number = 2\n",
    "print(number > 3)\n",
    "print(number < 3)\n",
    "print(not number > 3)\n",
    "print(not number < 3)\n",
    "print(number > 3 and number > 1)\n",
    "print(number > 3 or number > 1)"
   ]
  },
  {
   "cell_type": "code",
   "execution_count": null,
   "metadata": {},
   "outputs": [],
   "source": [
    "#Membership Operators :- in , not in\n",
    "pets=[\"dog\",\"cat\",\"ferret\"]\n",
    "\"fox\" in pets\n"
   ]
  },
  {
   "cell_type": "code",
   "execution_count": null,
   "metadata": {},
   "outputs": [],
   "source": [
    "#Identity Operators :- is , is not\n",
    "2 is 2\n"
   ]
  },
  {
   "cell_type": "code",
   "execution_count": null,
   "metadata": {},
   "outputs": [],
   "source": [
    "#Bitwise Operator\n",
    "a = 0o0111100       #0o prefix for octal \n",
    "b = 0o0001101\n",
    "\n",
    "print(a)\n",
    "print(a&b)\n",
    "print(a|b)\n",
    "print(a^b)\n",
    "print(~a)\n"
   ]
  },
  {
   "cell_type": "code",
   "execution_count": null,
   "metadata": {},
   "outputs": [],
   "source": [
    "#Type Casting and type() function\n",
    "x=\"123\"\n",
    "print(x)\n",
    "print(type(x))\n",
    "x=int(x)\n",
    "print(type(x))\n",
    "print(x+2)"
   ]
  },
  {
   "cell_type": "code",
   "execution_count": null,
   "metadata": {},
   "outputs": [],
   "source": [
    "#If-Else Statement#\n",
    "age = int(input(\"Enter your age: \"))\n",
    "\n",
    "if age >= 18:\n",
    "   print(\"you are an adult\")\n",
    "   print(\"you can vote\")\n",
    "elif age < 5:\n",
    "   print(\"you are a child\")\n",
    "else:\n",
    "   print(\"you are in school\")\n",
    "print(\"thank you\")"
   ]
  },
  {
   "cell_type": "code",
   "execution_count": null,
   "metadata": {},
   "outputs": [],
   "source": [
    "#If-Else Calculator\n",
    "first = float(input(\"Enter first number : \"))\n",
    "second = float(input(\"Enter second number : \"))\n",
    "\n",
    "print(\"----press keys for operator (+,-,*,/,%)----\")\n",
    "operator = input(\"Enter operator : \")\n",
    "\n",
    "if operator == \"+\":\n",
    "   print(first + second)\n",
    "elif operator == \"-\":\n",
    "   print(first - second)\n",
    "elif operator == \"*\":\n",
    "   print(first * second)\n",
    "elif operator == \"/\":\n",
    "   print(first / second)\n",
    "elif operator == \"%\":\n",
    "   print(first % second)\n",
    "else:\n",
    "    print(\"Invalid Operation\")"
   ]
  },
  {
   "cell_type": "code",
   "execution_count": null,
   "metadata": {},
   "outputs": [],
   "source": [
    "#For Loop\n",
    "for i in range(5):\n",
    "   print(i)\n",
    "   i = i + 1\n",
    "\n",
    "for i in range(5):\n",
    "   print(i * \"*\")\n",
    "   i = i + 1\n"
   ]
  },
  {
   "cell_type": "code",
   "execution_count": null,
   "metadata": {},
   "outputs": [],
   "source": [
    "#While Loop\n",
    "i = 1\n",
    "while(i <= 5):\n",
    "   print(i)\n",
    "   i = i + 1\n",
    "\n",
    "i = 1\n",
    "while(i <= 5):\n",
    "   print(i * \"*\")\n",
    "   i = i + 1\n",
    "\n",
    "i = 5\n",
    "while(i >= 1):\n",
    "   print(i * \"*\")\n",
    "   i = i - 1"
   ]
  },
  {
   "cell_type": "code",
   "execution_count": null,
   "metadata": {},
   "outputs": [],
   "source": [
    "i=0\n",
    "while i<5:\n",
    "    print(\"A\")\n",
    "    i+=1"
   ]
  },
  {
   "cell_type": "code",
   "execution_count": null,
   "metadata": {},
   "outputs": [],
   "source": [
    "#Break and Continue\n",
    "students = [\"ram\", \"shyam\", \"mohan\", \"radha\", \"radhika\"]\n",
    "\n",
    "for student in students:\n",
    "   if(student == \"radha\"):\n",
    "       break\n",
    "   print(student)\n",
    "\n",
    "for student in students:\n",
    "   if(student == \"mohan\"):\n",
    "       continue\n",
    "   print(student)"
   ]
  },
  {
   "cell_type": "code",
   "execution_count": 4,
   "metadata": {},
   "outputs": [
    {
     "name": "stdout",
     "output_type": "stream",
     "text": [
      "2736360325360\n",
      "2736360325360\n"
     ]
    }
   ],
   "source": [
    "a=1\n",
    "b=1\n",
    "print(id(a))\n",
    "print(id(b))"
   ]
  },
  {
   "cell_type": "code",
   "execution_count": 5,
   "metadata": {},
   "outputs": [
    {
     "name": "stdout",
     "output_type": "stream",
     "text": [
      "2736360328528\n",
      "2736360325648\n",
      "Variable   Type    Data/Info\n",
      "----------------------------\n",
      "a          int     100\n",
      "b          int     10\n"
     ]
    }
   ],
   "source": [
    "a=10\n",
    "b=a\n",
    "a=100\n",
    "print(id(a))\n",
    "print(id(b))\n",
    "%whos"
   ]
  },
  {
   "cell_type": "code",
   "execution_count": null,
   "metadata": {},
   "outputs": [],
   "source": [
    "#Range\n",
    "numbers = range(16)\n",
    "print(numbers)"
   ]
  },
  {
   "cell_type": "markdown",
   "metadata": {},
   "source": [
    "List\n",
    "are containers to store a set of values of any data type"
   ]
  },
  {
   "cell_type": "code",
   "execution_count": null,
   "metadata": {},
   "outputs": [],
   "source": [
    "#Lists         \n",
    "fruits =           [\"apple\", \"orange\", \"mango\"]\n",
    "#left-right        [0th index, 1st ,   2nd]\n",
    "#right-left        [-3rd     , -2nd, -1st]\n",
    "print(fruits[0])\n",
    "print(fruits[1])\n",
    "print(fruits[2])\n",
    "print(fruits[-1])\n",
    "print(fruits[-2])\n",
    "print(fruits[-3])\n",
    "\n",
    "fruits[0] = \"banana\"\n",
    "print(fruits)\n",
    "\n",
    "#List Slicing\n",
    "print(fruits[0:])  #same as above [0:2]\n",
    "print(fruits[:2])  # same as [0:2]\n",
    "\n",
    "print(fruits[0:2]) #String Slicing [from 0th eleemnt:2nd element] last element is mutually exclusive\n",
    "\n",
    "print(fruits[-3:-1]) #same as [0:2]\n",
    "\n",
    "print(fruits[5:]) #from 5th to last\n",
    "print(fruits[::-1]) #reverses list\n",
    "for fruit in fruits:\n",
    "   print(fruit)\n",
    "\n",
    "l=[1,2,3,4,5]\n",
    "print(l*2)  #multiply\n",
    "\n",
    "print(l.index(2))    #index\n",
    "\n",
    "print(fruits.index('apple',0,3))\n",
    "\n",
    "ls=[4,3,6,1,9]\n",
    "ls.sort()   #sort in ascending order \n",
    "print(ls)\n",
    "\n",
    "ls=[4,3,6,1,9]\n",
    "ls.sort(reverse=True)      #sort in descending order\n",
    "print(ls)\n",
    "\n",
    "ls.clear()  #clear the list\n"
   ]
  },
  {
   "cell_type": "code",
   "execution_count": null,
   "metadata": {},
   "outputs": [],
   "source": [
    "fruits =   [\"apple\", \"orange\", \"mango\",\"plum\"]\n",
    "print(fruits.index('apple',0,3))"
   ]
  },
  {
   "cell_type": "code",
   "execution_count": null,
   "metadata": {},
   "outputs": [],
   "source": [
    "#Diff. methods for Lists\n",
    "marks = [\"english\", 95, \"chemistry\", 98]\n",
    "marks.append(\"physics\")       #append to insert element at last index by default\n",
    "marks.append(97)\n",
    "print(marks)\n",
    "\n",
    "marks.insert(0, \"math\")    #To insert element at a particular index\n",
    "marks.insert(1, 99)\n",
    "print(marks)\n",
    "\n",
    "\n",
    "print(\"math\" in marks)\n",
    "\n",
    "print(len(marks))\n",
    "marks.clear() # remove all elements \n",
    "print(marks)\n",
    "\n",
    "x=[4,7,1,8,3,5,0,1,8]\n",
    "x.remove(8)     #remove a given element having multiple instances\n",
    "print(x)\n",
    "x.sort()      \n",
    "print(x)\n",
    "\n",
    "x.extend([12,13]) #adds more than one elements\n",
    "print(x)\n",
    "\n",
    "x.reverse()\n",
    "print(x)\n",
    "\n",
    "x.pop(2)      #delete element from nth position\n",
    "print(x)\n",
    "\n",
    "print(x.count(1)) #Counts occurence of any element\n",
    "print(len(x)) #gives length of list\n",
    "print(min(x)) #gives minimum element\n",
    "print(max(x)) #gives maximum element\n"
   ]
  },
  {
   "cell_type": "code",
   "execution_count": null,
   "metadata": {},
   "outputs": [],
   "source": [
    "#Iteration using for loop\n",
    "# number of elements \n",
    "n = int(input(\"Enter number of elements : \")) \n",
    "  \n",
    "# Below line read inputs from user using map() function  \n",
    "a = list(map(int,input(\"\\nEnter the numbers : \").strip().split()))[:n] \n",
    "  \n",
    "print(a)\n"
   ]
  },
  {
   "cell_type": "code",
   "execution_count": null,
   "metadata": {},
   "outputs": [],
   "source": [
    "l = [ ] \n",
    "n = int(input(\"Enter number of elements : \")) \n",
    "\n",
    "for i in range(0, n): \n",
    "    element =input() \n",
    "    l.append(element) \n",
    "    \n",
    "print(l)"
   ]
  },
  {
   "cell_type": "code",
   "execution_count": null,
   "metadata": {},
   "outputs": [],
   "source": [
    "l = [ ] \n",
    "n = int(input(\"Enter number of elements : \")) \n",
    "\n",
    "for i in range(0, n): \n",
    "    element =[input(\"Enter string\"), int(input(\"Enter integer\"))] \n",
    "    l.append(element) \n",
    "    \n",
    "print(l)"
   ]
  },
  {
   "cell_type": "code",
   "execution_count": null,
   "metadata": {},
   "outputs": [],
   "source": [
    "l = [ ] \n",
    "n = int(input(\"Enter number of elements : \")) \n",
    "\n",
    "for i in range(0, n): \n",
    "    element =input() \n",
    "    l.append(element) \n",
    "\n",
    "for j in range(n-1 , -1 ,-1):\n",
    "    print(l[j])"
   ]
  },
  {
   "cell_type": "code",
   "execution_count": null,
   "metadata": {},
   "outputs": [],
   "source": [
    "list = [1,2,3,4,5,6,7,8,9]\n",
    "for i in range(-1,-10,-1):\n",
    "    print(list[i], end=' ')\n"
   ]
  },
  {
   "cell_type": "code",
   "execution_count": null,
   "metadata": {},
   "outputs": [],
   "source": [
    "input_string=input()\n",
    "user_list=input_string.split()\n",
    "\n",
    "print(user_list)\n",
    "\n",
    "for i in range(len(user_list)):\n",
    "    user_list[i] = int(user_list[i])\n",
    "\n",
    "print(sum(user_list))"
   ]
  },
  {
   "cell_type": "code",
   "execution_count": null,
   "metadata": {},
   "outputs": [],
   "source": [
    "#List Comphrehension\n",
    "l2=[]\n",
    "l1=[1,2,3,4,5]\n",
    "# for i in l1:\n",
    "#     l2.append(i**2)\n",
    "l2=[i**2 for i in l1]\n",
    "print(l2)"
   ]
  },
  {
   "cell_type": "code",
   "execution_count": null,
   "metadata": {},
   "outputs": [],
   "source": [
    "from __future__ import annotations\n",
    "\n",
    "import os.path\n",
    "import time\n",
    "from multiprocessing import Pool\n",
    "\n",
    "import numpy as np\n",
    "import scipy.io.wavfile\n",
    "\n",
    "\n",
    "def gen_fake_data(filenames):\n",
    "    print(\"generating fake data\")\n",
    "    try:\n",
    "        os.mkdir(\"sounds\")\n",
    "    except FileExistsError:\n",
    "        pass\n",
    "\n",
    "    for filename in filenames:  # homework: convert this loop to pool too!\n",
    "        if not os.path.exists(filename):\n",
    "            print(f\"creating {filename}\")\n",
    "            gen_wav_file(filename, frequency=440, duration=60.0 * 4)\n",
    "\n",
    "def gen_wav_file(filename: str, frequency: float, duration: float):\n",
    "    samplerate = 44100\n",
    "    t = np.linspace(0., duration, int(duration * samplerate))\n",
    "    data = np.sin(2. * np.pi * frequency * t) * 0.0\n",
    "    scipy.io.wavfile.write(filename, samplerate, data.astype(np.float32))"
   ]
  },
  {
   "cell_type": "code",
   "execution_count": null,
   "metadata": {},
   "outputs": [],
   "source": [
    "l1 = [ 1,2,3]\n",
    "l2 = [ 1,2,3]\n",
    "l3 = [ 1, 2, 5, 8]\n",
    "l4 = [ 1, 2, 4, 3]\n",
    "\n",
    "l1 == l2"
   ]
  },
  {
   "cell_type": "markdown",
   "metadata": {},
   "source": [
    "List built-in functions"
   ]
  },
  {
   "cell_type": "code",
   "execution_count": null,
   "metadata": {},
   "outputs": [],
   "source": [
    "#Lambda Function -> inline function,evaluates in a single line\n",
    "x= lambda a,b,d: ((a+30)*b)/d\n",
    "print(x(20,2,2))\n"
   ]
  },
  {
   "cell_type": "code",
   "execution_count": null,
   "metadata": {},
   "outputs": [],
   "source": [
    "#Filter  -> to find a specific pattern\n",
    "l1=[1,2,3,4,5,6,7,8]\n",
    "\n",
    "l2=list(filter(lambda x: (x%2==0),l1))\n",
    "print(l2)"
   ]
  },
  {
   "cell_type": "code",
   "execution_count": null,
   "metadata": {},
   "outputs": [],
   "source": [
    "#Map  -> to iterate through\n",
    "l1=[1,2,3,4,5,6,7,8]\n",
    "\n",
    "l2=list(map(lambda x: (x*2),l1))\n",
    "print(l2)"
   ]
  },
  {
   "cell_type": "code",
   "execution_count": null,
   "metadata": {},
   "outputs": [],
   "source": [
    "#reduce -> to reduce a sequence in a consolidated form\n",
    "from functools import reduce\n",
    "l1=[1,2,3,4,5]\n",
    "product =reduce(lambda x,y: x*y, l1)\n",
    "print(product)"
   ]
  },
  {
   "cell_type": "code",
   "execution_count": null,
   "metadata": {},
   "outputs": [],
   "source": [
    "#ord -> gives ASCII value\n",
    "value = ord(\"A\")\n",
    "\n",
    "# prints the unicode value\n",
    "print (value)\n",
    "\n",
    "# print the character\n",
    "print(chr(value))"
   ]
  },
  {
   "cell_type": "code",
   "execution_count": null,
   "metadata": {},
   "outputs": [],
   "source": [
    "#max() and min()\n",
    "list = [1.2, 1.3, 0.1]\n",
    "max_value = max(list)\n",
    "min_value = min(list)\n",
    "print(max_value)\n",
    "print(min_value)"
   ]
  },
  {
   "cell_type": "code",
   "execution_count": null,
   "metadata": {},
   "outputs": [],
   "source": [
    "#copy()\n",
    "l=[1,2,3,4]\n",
    "l1=[]\n",
    "l1=l.copy()\n",
    "print(l1)"
   ]
  },
  {
   "cell_type": "code",
   "execution_count": null,
   "metadata": {},
   "outputs": [],
   "source": [
    "#len()\n",
    "l=[1,2,3,4]\n",
    "print(len(l))"
   ]
  },
  {
   "cell_type": "code",
   "execution_count": 6,
   "metadata": {},
   "outputs": [
    {
     "name": "stdout",
     "output_type": "stream",
     "text": [
      "(0, 'eat')\n",
      "(1, 'sleep')\n",
      "(2, 'repeat')\n",
      "100 eat\n",
      "101 sleep\n",
      "102 repeat\n",
      "0\n",
      "eat\n",
      "1\n",
      "sleep\n",
      "2\n",
      "repeat\n"
     ]
    }
   ],
   "source": [
    "#enumerate() ->adds a counter to an iterable and returns it in a \n",
    "#form of enumerating object\n",
    "\n",
    "# Python program to illustrate\n",
    "# enumerate function in loops\n",
    "l1 = [\"eat\", \"sleep\", \"repeat\"]\n",
    "\n",
    "# printing the tuples in object directly\n",
    "for ele in enumerate(l1):\n",
    "\tprint (ele)\n",
    "\n",
    "# changing index and printing separately\n",
    "for count, ele in enumerate(l1, 100):\n",
    "\tprint (count, ele)\n",
    "\n",
    "# getting desired output from tuple\n",
    "for count, ele in enumerate(l1):\n",
    "\tprint(count)\n",
    "\tprint(ele)\n"
   ]
  },
  {
   "cell_type": "code",
   "execution_count": null,
   "metadata": {},
   "outputs": [],
   "source": [
    "#String Slicing\n",
    "x=\"nitro\"\n",
    "#  0,1,2,3,4\n",
    "# -5,-4,-3,-2,-1\n",
    "print(x[0:4])\n",
    "print(x[-3:-1])\n",
    "#x[:] ->from start to end\n",
    "name = \"sahitya\"\n",
    "d=name[0:6:2] #Here 2 is skip value\n",
    "print(d)\n",
    "var=\"ABCDEFGH\"\n",
    "e=var[0::2]\n",
    "print(e)\n",
    "print(len(name))\n",
    "\n"
   ]
  },
  {
   "cell_type": "code",
   "execution_count": null,
   "metadata": {},
   "outputs": [],
   "source": [
    "py_string = 'Python'\n",
    "\n",
    "slice_object = slice(-1, -4, -1)\n",
    "\n",
    "print(py_string[slice_object])   "
   ]
  },
  {
   "cell_type": "code",
   "execution_count": null,
   "metadata": {},
   "outputs": [],
   "source": [
    "i=[1,2,3,4,5]\n",
    "i[slice(3)]"
   ]
  },
  {
   "cell_type": "code",
   "execution_count": null,
   "metadata": {},
   "outputs": [],
   "source": [
    "s='helloworld'\n",
    "s[slice(1,6,2)]"
   ]
  },
  {
   "cell_type": "code",
   "execution_count": null,
   "metadata": {},
   "outputs": [],
   "source": [
    "print('this is sahitya'.replace('this is', \"I'm @\"))\n",
    "s='sam'\n",
    "S='SAM'\n",
    "print(s.find('a'))\n",
    "print(s.islower())\n",
    "print(S.isupper())\n"
   ]
  },
  {
   "cell_type": "code",
   "execution_count": null,
   "metadata": {},
   "outputs": [],
   "source": [
    "#string alignment\n",
    "s=\"|{:<10}|{:^10}|{:>10}|\".format(\"I'm\",\"Sahitya\",\"Satya\")\n",
    "print(s)\n",
    "s1=\"{0:b}\".format(16)\n",
    "print(s1)\n",
    "\n",
    "s2=\"{0:e}\".format(16.389623458634576347537654)\n",
    "print(s2)\n",
    "\n",
    "s3=\"{0:.2f}\".format(1/6)\n",
    "print(s3)\n",
    "String1 = \"{0:^16} was founded in {1:<6}!\".format(\"RamisShyam\", 2009)\n",
    "\n",
    "print(String1)\n",
    "\n",
    "\n"
   ]
  },
  {
   "cell_type": "code",
   "execution_count": null,
   "metadata": {},
   "outputs": [],
   "source": [
    "# Tuples :- can't be appended it's immutable\n",
    "marks = (95, 98, 97, 97)\n",
    "# marks[0] = 98 OR marks.append(99) #Will give error as tuple does not support assignment\n",
    "\n",
    "print(marks.count(97))  #No. of times the element is present\n",
    "print(marks.index(97))  #pos. of element. indexing :-[0th, 1st, 2nd,...]\n",
    "print(marks)\n",
    "\n",
    "#nesting in tuples\n",
    "#length of tuple \n",
    "\n",
    "t1=(1,2,3,'sam')    #membership test\n",
    "print(1 in t1)\n",
    "\n",
    "t2=(2,8,4,6,9)      #sorted    converts tuple into list\n",
    "print(sorted(t2))\n",
    "\n",
    "t2=tuple(sorted(t2, reverse=False))      #\n",
    "print(t2)\n",
    "\n",
    "p=(1,2,3)   #tuple packing and unpacking\n",
    "(a,b,c)=p\n",
    "print(a,b,c)\n",
    "\n"
   ]
  },
  {
   "cell_type": "code",
   "execution_count": null,
   "metadata": {},
   "outputs": [],
   "source": [
    "#list in tuple\n",
    "t=('a', 'b', 'c', 1, [1,2,3,4])\n",
    "print(t[4][1])\n"
   ]
  },
  {
   "cell_type": "code",
   "execution_count": null,
   "metadata": {},
   "outputs": [],
   "source": [
    "#Dictionary:- Collection of key-value pairs , cannot contain duplicate keys\n",
    "dict = {\"a\" : \"Sahitya\", \"b\" : 16, \"c\" : [16,9,2002], \"anotherdict\":{\"d\": \"Python\"}, 6:9 }\n",
    "print(dict)\n",
    "\n",
    "print(dict[\"b\"])\n",
    "\n",
    "dict[\"e\"] = 95\n",
    "print(dict)\n",
    "\n",
    "print(dict[\"anotherdict\"][\"d\"]) # To access sub dictionary element i.e nested dictionary\n",
    "\n",
    "print(\"Keys of dictionary\")\n",
    "print(dict.keys())\n",
    "print(\"values of dictionary\")\n",
    "print(dict.values())\n",
    "print(dict.items())     # returns items in form of tuple\n",
    "\n",
    "updateDict ={ \"Divya\":\"Friend\"} \n",
    "dict.update(updateDict)\n",
    "print(dict)\n",
    "\n",
    "print(dict.get(\"a1\")) #.get() will return null if key is not present in dict whereas dict[\"a1\"] will give error\n",
    "# Returns the value of specified key\n",
    "\n",
    "d={1:\"A\", 2:\"B\", 3:\"B\"}  \n",
    "#d.clear()  #clear() ->remove all elements\n",
    "print(d)\n",
    "d.popitem()     #returns last pair from dict.\n",
    "\n"
   ]
  },
  {
   "cell_type": "code",
   "execution_count": null,
   "metadata": {},
   "outputs": [],
   "source": [
    "d={1:\"A\", 2:\"B\", 3:\"C\"}\n",
    "print(d)"
   ]
  },
  {
   "cell_type": "code",
   "execution_count": null,
   "metadata": {},
   "outputs": [],
   "source": [
    "num = {'A': 80, 'B': 90, 'C': 86}\n",
    "\n",
    "\n",
    "print(list(num.keys())[0]) \n",
    "print(list(num.values())[0]) \n",
    "print(list(num.items())[0]) "
   ]
  },
  {
   "cell_type": "code",
   "execution_count": null,
   "metadata": {},
   "outputs": [],
   "source": [
    "import math\n",
    "\n",
    "print(math.copysign(2,-1))\n",
    "print(math.hypot(3,4))"
   ]
  },
  {
   "cell_type": "code",
   "execution_count": null,
   "metadata": {},
   "outputs": [],
   "source": [
    "#Converting lists into dictionary\n",
    "keys = [10, 20, 30]\n",
    "values = ['Ten', 'Twenty', 'Thirty']\n",
    "\n",
    "sampleDict = dict(zip(keys, values))\n",
    "print(sampleDict)\n"
   ]
  },
  {
   "cell_type": "code",
   "execution_count": null,
   "metadata": {},
   "outputs": [],
   "source": [
    "l=[1,2]\n",
    "print(id(l[0]))\n",
    "print(id(l[1]))\n",
    "print(id(1))"
   ]
  },
  {
   "cell_type": "code",
   "execution_count": null,
   "metadata": {},
   "outputs": [],
   "source": [
    "# Sets :- Collection of non repetitive elements ,they are unordered, items can not be changed\n",
    "marks = {98, 97, 95, 95} #An element gets printed only once\n",
    "print(marks)\n",
    "print(len(marks))\n",
    "print(type(marks))\n",
    "\n",
    "#This is an empty dictionary not empty set\n",
    "x1={}\n",
    "print(type(x1))\n",
    "#Empty set\n",
    "x=set()\n",
    "print(type(x))\n",
    "\n",
    "x.add(2)\n",
    "x.add(5)\n",
    "# x.add([1,2])  #We can not add list in a set as set is non hashable similarly we can't add dictionary\n",
    "x.add((3,4))    #tuple can be added because it is hashable\n",
    "print(x)\n",
    "\n",
    "x.remove(5)  #To remove element\n",
    "print(x)\n",
    "\n",
    "a={1,2,3,4,5,6}\n",
    "print(a.pop()) #will give an arbitrary element from the set\n",
    "#a.clear() #empties the set\n",
    "\n",
    "s1={1,2,3,4,5}\n",
    "s2={4,5,6,7,8}\n",
    "s3={23,467,65}\n",
    "print(s3.clear())       #empties the set\n",
    "print(len(s1))        #give no. of elements\n",
    "\n",
    "print(s1.union(s2))         #will give all elements of both sets\n",
    "print(s1.intersection(s2))  #will give common elements of both sets\n"
   ]
  },
  {
   "cell_type": "code",
   "execution_count": null,
   "metadata": {},
   "outputs": [],
   "source": [
    "element=set()\n",
    "items=[1,0.1, 'a', (1,2), {'a':1}, [1,2],{2,4}, None]\n",
    "element.add(items[0])\n",
    "element.add(items[1])\n",
    "element.add(items[2])\n",
    "element.add(items[3])\n",
    "# element.add(items[4])   #can't add list ,set dict in a set\n",
    "# element.add(items[5])\n",
    "# element.add(items[6])\n",
    "\n",
    "element.add(items[7])\n",
    "print(element)"
   ]
  },
  {
   "cell_type": "code",
   "execution_count": null,
   "metadata": {},
   "outputs": [],
   "source": [
    "#hash id\n",
    "a=1\n",
    "a1=1\n",
    "b=2.1\n",
    "b1=2.1\n",
    "c='sahitya'\n",
    "c='satya'\n",
    "print(hash(a), hash(a1), hash(b), hash(b1), hash(c), hash(c))\n",
    "print(id(a), id(a1), id(b), id(b1), id(c), id(c))"
   ]
  },
  {
   "cell_type": "code",
   "execution_count": null,
   "metadata": {},
   "outputs": [],
   "source": [
    "set1 = (1,2,3,4,5,1,2,3,4,5)    # not a set as declared in brackets\n",
    "set2 = set(set1)\n",
    "print(set1)\n",
    "print(set2)     #all duplicate elements will be removed\n",
    "s={3,1,5,2,4}\n",
    "print(s)"
   ]
  },
  {
   "cell_type": "code",
   "execution_count": null,
   "metadata": {},
   "outputs": [],
   "source": [
    "set= {\"z\" , \"y\" , \"a\"}\n",
    "print(set)"
   ]
  },
  {
   "cell_type": "code",
   "execution_count": null,
   "metadata": {},
   "outputs": [],
   "source": [
    "s={1,2,3}\n",
    "s.update({4,5,6})\n",
    "print(s)"
   ]
  },
  {
   "cell_type": "code",
   "execution_count": null,
   "metadata": {},
   "outputs": [],
   "source": [
    "s={1,2,3}\n",
    "s.discard(4)\n",
    "print(s)"
   ]
  },
  {
   "cell_type": "code",
   "execution_count": null,
   "metadata": {},
   "outputs": [],
   "source": [
    "a={'a','q','x','q'}\n",
    "a = a.pop()\n",
    "print(a) #will give an arbitrary element from the set"
   ]
  },
  {
   "cell_type": "code",
   "execution_count": null,
   "metadata": {},
   "outputs": [],
   "source": [
    "#frozen set\n",
    "frozen_set = frozenset([\"e\", \"f\", \"g\"])\n",
    "print(frozen_set)"
   ]
  },
  {
   "cell_type": "code",
   "execution_count": null,
   "metadata": {},
   "outputs": [],
   "source": [
    "sample = {1,2,3,4,5,6,5}\n",
    "new_sample=sample.copy()\n",
    "\n",
    "print(new_sample)\n"
   ]
  },
  {
   "cell_type": "code",
   "execution_count": null,
   "metadata": {},
   "outputs": [],
   "source": [
    "x = {\"apple\", \"banana\", \"cherry\"}\n",
    "y = {\"google\", \"microsoft\", \"apple\"}\n",
    "\n",
    "x.difference_update(y)\n",
    "\n",
    "print(x)\n"
   ]
  },
  {
   "cell_type": "code",
   "execution_count": null,
   "metadata": {},
   "outputs": [],
   "source": [
    "x = {\"apple\", \"banana\", \"cherry\"}\n",
    "y = {\"google\", \"microsoft\", \"facebook\"}\n",
    "\n",
    "z = x.isdisjoint(y)\n",
    "\n",
    "print(z)\n"
   ]
  },
  {
   "cell_type": "code",
   "execution_count": null,
   "metadata": {},
   "outputs": [],
   "source": [
    "x = {\"a\", \"b\", \"c\"}\n",
    "y = {\"f\", \"e\", \"d\", \"c\", \"b\", \"a\"}\n",
    "\n",
    "z = x.issubset(y)\n",
    "\n",
    "print(z)\n"
   ]
  },
  {
   "cell_type": "code",
   "execution_count": null,
   "metadata": {},
   "outputs": [],
   "source": [
    "x = {\"f\", \"e\", \"d\", \"c\", \"b\", \"a\"}\n",
    "y = {\"a\", \"b\", \"c\"}\n",
    "\n",
    "z = x.issuperset(y)\n",
    "\n",
    "print(z)\n"
   ]
  },
  {
   "cell_type": "code",
   "execution_count": null,
   "metadata": {},
   "outputs": [],
   "source": [
    "x = {\"apple\", \"banana\", \"cherry\"}\n",
    "y = {\"google\", \"microsoft\", \"apple\"}\n",
    "\n",
    "z = x.symmetric_difference(y)\n",
    "\n",
    "print(z)\n"
   ]
  },
  {
   "cell_type": "code",
   "execution_count": null,
   "metadata": {},
   "outputs": [],
   "source": []
  },
  {
   "cell_type": "markdown",
   "metadata": {},
   "source": [
    "Hashable- can not change, Unhashable- can change\n",
    "set is ordered , is unhashable"
   ]
  },
  {
   "cell_type": "code",
   "execution_count": null,
   "metadata": {},
   "outputs": [],
   "source": [
    "#function to reverse a string\n",
    "def rev(str):\n",
    " return str[::-1]\n",
    "str=input()\n",
    "print(rev(str))"
   ]
  },
  {
   "cell_type": "code",
   "execution_count": null,
   "metadata": {},
   "outputs": [],
   "source": [
    "#Python Function Module\n",
    "import math\n",
    "\n",
    "print(dir(math))\n",
    "\n",
    "import random\n",
    "\n",
    "print(dir(random))\n",
    "\n",
    "import string\n",
    "\n",
    "print(dir(string))\n",
    "\n",
    "from math import sqrt\n",
    "\n",
    "print(sqrt(4))"
   ]
  },
  {
   "cell_type": "code",
   "execution_count": null,
   "metadata": {},
   "outputs": [],
   "source": [
    "#Function User-Defined\n",
    "def sum(a, b=4): #Default Argument b=4\n",
    "   print(a + b)\n",
    "\n",
    "sum(1, 2)\n",
    "sum(1)  #when b is not defined it takes given value i.e 4 (in this case) AKA DEFAULT ARGUMENT"
   ]
  },
  {
   "cell_type": "code",
   "execution_count": null,
   "metadata": {},
   "outputs": [],
   "source": [
    "#Recursion\n",
    "def recurse(n): \n",
    "    if n==1 or 0:\n",
    "        return (1)\n",
    "    else:\n",
    "        return (n * recurse(n-1))\n",
    "        print(fact)\n",
    "\n",
    "n =int(input(\"Enter the number to find it's Factorial: \"))\n",
    "print(f\"The factorial of {n} is:\",recurse(n))\n"
   ]
  },
  {
   "cell_type": "code",
   "execution_count": null,
   "metadata": {},
   "outputs": [],
   "source": [
    "import pandas as pd\n",
    "\n",
    "pd.Series({\"Sam\":1, \"Jake\":2, \"Kane\":3})"
   ]
  },
  {
   "cell_type": "code",
   "execution_count": null,
   "metadata": {},
   "outputs": [],
   "source": [
    "import numpy as np\n",
    "from matplotlib import pyplot as pl\n",
    "\n",
    "x=np.arange(1,11)\n",
    "\n",
    "y= 2*x\n",
    "\n",
    "pl.plot(x,y)\n",
    "pl.show()"
   ]
  },
  {
   "cell_type": "code",
   "execution_count": null,
   "metadata": {},
   "outputs": [],
   "source": [
    "# taking two inputs at a time\n",
    "x, y = [int(x) for x in input(\"Enter two values: \").split()]\n",
    "print(\"First number is {} and second number is {}\".format(x, y))\n",
    "print()\n"
   ]
  },
  {
   "cell_type": "code",
   "execution_count": null,
   "metadata": {},
   "outputs": [],
   "source": [
    "# taking multiple inputs at a time \n",
    "x = [int(x) for x in input(\"Enter multiple values: \").split()]\n",
    "print(\"Number of list is: \", x)"
   ]
  },
  {
   "cell_type": "code",
   "execution_count": 12,
   "metadata": {},
   "outputs": [
    {
     "name": "stdout",
     "output_type": "stream",
     "text": [
      "0 32\n",
      "1 54\n",
      "2 21\n",
      "3 False\n",
      "4 7.2\n",
      "5 Sam\n"
     ]
    }
   ],
   "source": [
    "#Enumeration\n",
    "list1 = [32, 54, 21, False, 7.2, \"Sam\"]\n",
    "\n",
    "# index = 0\n",
    "# for item in list1:\n",
    "#     print(item, index)\n",
    "#     index += 1\n",
    "\n",
    "for index, item in enumerate(list1):\n",
    "    print(index, item)"
   ]
  },
  {
   "cell_type": "code",
   "execution_count": 13,
   "metadata": {},
   "outputs": [
    {
     "name": "stdout",
     "output_type": "stream",
     "text": [
      "(0, 'Sam')\n",
      "(1, 'Jake')\n",
      "(2, 'Drake')\n",
      "(3, 'Harry')\n"
     ]
    }
   ],
   "source": [
    "l1 = [\"Sam\", \"Jake\", \"Drake\", \"Harry\"]\n",
    "\n",
    "for ele in enumerate(l1):\n",
    "    print (ele)"
   ]
  },
  {
   "cell_type": "code",
   "execution_count": null,
   "metadata": {},
   "outputs": [],
   "source": [
    "#List Comprehension\n",
    "a = [3, 6, 7,8,9,10,11,12,13,14]\n",
    "# b = []\n",
    "# for item in a:\n",
    "#     if item%2==0:\n",
    "#         b.append(item)\n",
    "# print(b)\n",
    "\n",
    "# Shortcut to write the same:\n",
    "b = [i for i in a if i%2==0]\n",
    "print(b)"
   ]
  },
  {
   "cell_type": "code",
   "execution_count": null,
   "metadata": {},
   "outputs": [],
   "source": [
    "# def function_name_print(a, b, c, d, e):\n",
    "#     print(a, b, c, d, e)\n",
    "\n",
    "def funargs(normal, *args, **kwargs):\n",
    "    print(normal)\n",
    "    for item in args:\n",
    "        print(item)\n",
    "    print(\"\\nNow I would Like to introduce some of our heroes\")\n",
    "    for key, value in kwargs.items():\n",
    "        print(f\"{key} is a {value}\")\n",
    "\n",
    "\n",
    "# function_name_print(\"Harry\", \"Rohan\", \"Skillf\", \"Hammad\", \"Shivam\")\n",
    "\n",
    "har = [\"Harry\", \"Rohan\", \"Skillf\", \"Hammad\",\"Shivam\", \"The programmer\"]\n",
    "normal = \"I am a normal Argument and the students are:\"\n",
    "kw = {\"Rohan\":\"Monitor\", \"Harry\":\"Fitness Instructor\",\"The Programmer\": \"Coordinator\", \"Shivam\":\"Cook\"}\n",
    "funargs(normal, *har, **kw)\n"
   ]
  },
  {
   "cell_type": "code",
   "execution_count": 8,
   "metadata": {},
   "outputs": [
    {
     "name": "stdout",
     "output_type": "stream",
     "text": [
      "15\n"
     ]
    }
   ],
   "source": [
    "#Closure function\n",
    "def num1(x):\n",
    "  def num2(y):\n",
    "    return x + y\n",
    "  return num2\n",
    "\n",
    "print(num1(10)(5))"
   ]
  },
  {
   "cell_type": "code",
   "execution_count": 11,
   "metadata": {},
   "outputs": [
    {
     "name": "stdout",
     "output_type": "stream",
     "text": [
      "6\n"
     ]
    }
   ],
   "source": [
    "def f1(x):\n",
    "    def f2(y):\n",
    "        def f3(z):\n",
    "            return x+y+z\n",
    "        return f3\n",
    "    return f2\n",
    "print(f1(1)(2)(3))"
   ]
  },
  {
   "cell_type": "code",
   "execution_count": null,
   "metadata": {},
   "outputs": [],
   "source": [
    "#fibonacci\n",
    "def fibonacci(n):\n",
    "    if n==1:\n",
    "        return 1\n",
    "    elif n==2:\n",
    "        return 1\n",
    "    elif n>2:\n",
    "        return fibonacci(n-1)+fibonacci(n-2)\n",
    "\n",
    "for n in range (1,101):\n",
    "    print(n, \":\", fibonacci(n))"
   ]
  },
  {
   "cell_type": "code",
   "execution_count": null,
   "metadata": {},
   "outputs": [],
   "source": [
    "# Memoization-> caching on fibonacci \n",
    "fibonacci_cache={}\n",
    "\n",
    "def fibonacci(n):\n",
    "    if n in fibonacci_cache:\n",
    "        return fibonacci_cache[n]\n",
    "\n",
    "    if n==1:\n",
    "        value =1\n",
    "    elif n==2:\n",
    "        value =1\n",
    "    elif n>2:\n",
    "        value= fibonacci(n-1) + fibonacci(n-2)\n",
    "\n",
    "    fibonacci_cache[n]= value\n",
    "    return value\n",
    "\n",
    "\n",
    "for n in range (1,1001):\n",
    "    print(n, \":\", fibonacci(n))"
   ]
  },
  {
   "cell_type": "code",
   "execution_count": null,
   "metadata": {},
   "outputs": [],
   "source": [
    "from functools import lru_cache\n",
    "@lru_cache(maxsize=1000) #default val=128\n",
    "def fibonacci(n):\n",
    "    if n==1:\n",
    "        return 1\n",
    "    elif n==2:\n",
    "        return 1\n",
    "    elif n>2:\n",
    "        return fibonacci(n-1)+fibonacci(n-2)\n",
    "\n",
    "for n in range (1,1001):\n",
    "    print(n, \":\", fibonacci(n))\n"
   ]
  },
  {
   "cell_type": "code",
   "execution_count": null,
   "metadata": {},
   "outputs": [],
   "source": [
    "def name(firstname,lastname):\n",
    "\n",
    "    full_name= lambda fn, ln: fn.strip().title() + \" \" + ln.strip().title()\n",
    "    print(full_name(firstname,lastname))\n",
    "name('      sahiTyA','              sATya')\n"
   ]
  },
  {
   "cell_type": "code",
   "execution_count": 13,
   "metadata": {},
   "outputs": [
    {
     "name": "stdout",
     "output_type": "stream",
     "text": [
      "['Ray Barbury', 'Orson Scott Card', 'Robert Heinlein', 'H. G. wel']\n"
     ]
    }
   ],
   "source": [
    "#Sort the names a.c.t last name in alphabetical order\n",
    "authors=[\"Ray Barbury\", \"Robert Heinlein\", \"Orson Scott Card\", \"H. G. wel\"] \n",
    "authors.sort(key=lambda name: name.split(\" \")[-1].lower())\n",
    "print(authors)"
   ]
  },
  {
   "cell_type": "code",
   "execution_count": 14,
   "metadata": {},
   "outputs": [
    {
     "name": "stdout",
     "output_type": "stream",
     "text": [
      "Help on built-in function sort:\n",
      "\n",
      "sort(*, key=None, reverse=False) method of builtins.list instance\n",
      "    Sort the list in ascending order and return None.\n",
      "    \n",
      "    The sort is in-place (i.e. the list itself is modified) and stable (i.e. the\n",
      "    order of two equal elements is maintained).\n",
      "    \n",
      "    If a key function is given, apply it once to each list item and sort them,\n",
      "    ascending or descending, according to their function values.\n",
      "    \n",
      "    The reverse flag can be set to sort in descending order.\n",
      "\n"
     ]
    }
   ],
   "source": [
    "help(authors.sort)"
   ]
  },
  {
   "cell_type": "code",
   "execution_count": null,
   "metadata": {},
   "outputs": [],
   "source": [
    "def quadratic(a,b,c):\n",
    "    return lambda x: a*x**2 + b*x + c\n",
    "quadratic(3,0,1)(2)"
   ]
  },
  {
   "cell_type": "code",
   "execution_count": null,
   "metadata": {},
   "outputs": [],
   "source": [
    "#Exception Handling\n",
    "import logging\n",
    "import time\n",
    "from os import path\n",
    "\n",
    "logging.basicConfig(filename=\"D:\\\\@Target\\\\problems.log\",level=logging.DEBUG)\n",
    "logger=logging.getlogger()\n",
    "\n",
    "start_time=time.time()\n",
    "def read_file(path):\n",
    "    start_time =time.time()\n",
    "    try:\n",
    "        f=open(path, mode=\"rb\")\n",
    "        data=f.read()\n",
    "        return data\n",
    "    except FileNotFoundError as err:\n",
    "        logger.error(err)\n",
    "        raise\n",
    "    else:\n",
    "        f.close()\n",
    "    finally:\n",
    "        stop_time=time.time()\n",
    "        dt= stop_time - start_time\n",
    "        logger.info(\"Time req. for {file} = {time}\".format(file=path,time=dt))\n",
    "\n",
    "data= read_file_timed(\"D:\\\\@Target\\\\Redis Course - In-Memory Database Tutorial.mp4\")"
   ]
  },
  {
   "cell_type": "code",
   "execution_count": 15,
   "metadata": {},
   "outputs": [
    {
     "data": {
      "text/plain": [
       "'C:\\\\Users\\\\ACER'"
      ]
     },
     "execution_count": 15,
     "metadata": {},
     "output_type": "execute_result"
    }
   ],
   "source": [
    "import os\n",
    "os.getcwd()"
   ]
  },
  {
   "cell_type": "code",
   "execution_count": 16,
   "metadata": {},
   "outputs": [
    {
     "data": {
      "text/plain": [
       "b'C:\\\\Users\\\\ACER'"
      ]
     },
     "execution_count": 16,
     "metadata": {},
     "output_type": "execute_result"
    }
   ],
   "source": [
    "os.getcwdb()  #fast retreival, in byte object"
   ]
  },
  {
   "cell_type": "code",
   "execution_count": 17,
   "metadata": {},
   "outputs": [
    {
     "name": "stdout",
     "output_type": "stream",
     "text": [
      "['.arduinoIDE', '.cache', '.conda', '.condarc', '.continuum', '.dbshell', '.dotnet', '.ipynb_checkpoints', '.ipython', '.jupyter', '.keras', '.matplotlib', '.mongorc.js', '.node_repl_history', '.packettracer', '.quokka', '.rediscli_history', '.templateengine', '.VirtualBox', '.vscode', '.wallaby', '3D Objects', 'advertising.csv', 'anaconda3', 'ANN.ipynb', 'ansel', 'AppData', 'Application Data', 'bill_authentication.csv', 'bi_clustering.ipynb', 'Cisco Packet Tracer 8.2.1', 'Contacts', 'Cookies', 'DATA_VISUAL_SIMPLE.ipynb', 'Decision_Tree_ Dataset.csv', 'DeepLearning.ipynb', 'Desktop', 'dim_match_summary.csv', 'dim_players.csv', 'dim_players_no_images.csv', 'Documents', 'Downloads', 'DSA_Python.ipynb', 'edb_psqlodbc.exe', 'fact_bating_summary.csv', 'fact_bowling_summary.csv', 'Favorites', 'FUZZY_C_Means.ipynb', 'Groceries_dataset.csv', 'Hierarchical Clustering.ipynb', 'hierarchical_clustering.csv', 'IRIS (1).csv', 'Iris.csv', 'KNN_ALGORITHM (5).ipynb', 'KNN_ALGORITHM.txt', 'K_means_ALGORITHM_SIMPLE.ipynb', 'K_Medoids_Algorithm_simple.ipynb', 'Links', 'Local Settings', 'LSA.ipynb', 'MachineLearningLab.ipynb', 'Mall_Customers.csv', 'mamonbest947oscombo.hdfs', 'Matrix Factorization for Machine Learning.ipynb', 'movie_dataset.csv', 'Movie_Recommendation_Engine.ipynb', 'Music', 'My Documents', 'NetHood', 'NLP.ipynb', 'NTUSER.DAT', 'ntuser.dat.LOG1', 'ntuser.dat.LOG2', 'NTUSER.DAT{a2332f18-cdbf-11ec-8680-002248483d79}.TM.blf', 'NTUSER.DAT{a2332f18-cdbf-11ec-8680-002248483d79}.TMContainer00000000000000000001.regtrans-ms', 'NTUSER.DAT{a2332f18-cdbf-11ec-8680-002248483d79}.TMContainer00000000000000000002.regtrans-ms', 'ntuser.ini', 'OneDrive', 'Practice.ipynb', 'PrintHood', 'Python_Course.ipynb', 'raw_forum_posts.dat', 'Recent', 'Saved Games', 'scikit_learn_data', 'Searches', 'segmented_customers_dataset.csv', 'SendTo', 'Singular_Value_Decomposition.ipynb', 'source', 'SPECTF.csv', 'spectral_clustering_.ipynb', 'Start Menu', 'Supervise ML Algo..ipynb', 'T20 WC data analysis.ipynb', 't20_wc_batting_summary.json', 't20_wc_bowling_summary.json', 't20_wc_match_results.json', 't20_wc_player_info.json', 'Templates', 'TeraBox', 'Unsupervised ML Algo..ipynb', 'v1.mp4', 'Videos', 'VirtualBox VMs', 'ws.csv']\n"
     ]
    }
   ],
   "source": [
    "print(os.listdir())"
   ]
  },
  {
   "cell_type": "code",
   "execution_count": null,
   "metadata": {},
   "outputs": [],
   "source": [
    "#make a new directory-> os.mkdir('name of dictionary')\n",
    "#                       os.mkdir('test')"
   ]
  },
  {
   "cell_type": "code",
   "execution_count": null,
   "metadata": {},
   "outputs": [],
   "source": [
    "#rename directory-> os.rename('test','new_one')"
   ]
  },
  {
   "cell_type": "code",
   "execution_count": null,
   "metadata": {},
   "outputs": [],
   "source": [
    "# change directory-> os.chdir()"
   ]
  },
  {
   "cell_type": "code",
   "execution_count": null,
   "metadata": {},
   "outputs": [],
   "source": [
    "# remove directory-> rmdir()"
   ]
  },
  {
   "cell_type": "code",
   "execution_count": null,
   "metadata": {},
   "outputs": [],
   "source": [
    "# join \n",
    "#os.path.join()"
   ]
  },
  {
   "cell_type": "code",
   "execution_count": 18,
   "metadata": {},
   "outputs": [
    {
     "name": "stdout",
     "output_type": "stream",
     "text": [
      "[4, 16, 36, 64, 100]\n"
     ]
    }
   ],
   "source": [
    "#List Comprehension\n",
    "square=[i**2 for i in range(1,11) if i%2==0]\n",
    "print(square)\n"
   ]
  },
  {
   "cell_type": "code",
   "execution_count": null,
   "metadata": {},
   "outputs": [],
   "source": [
    "remainder=[i**2 %5 for i in range(1,11)]\n",
    "print(remainder)"
   ]
  },
  {
   "cell_type": "code",
   "execution_count": null,
   "metadata": {},
   "outputs": [],
   "source": [
    "A=[1,3,5,7]\n",
    "B=[2,4,6,8]\n",
    "cartesian_product=[(a,b) for a in A for b in B]\n",
    "print(cartesian_product)"
   ]
  },
  {
   "cell_type": "markdown",
   "metadata": {},
   "source": [
    "Generator:- A process which can control iteration behaviour of a loop, it similar as function which returns array"
   ]
  },
  {
   "cell_type": "code",
   "execution_count": 19,
   "metadata": {},
   "outputs": [
    {
     "name": "stdout",
     "output_type": "stream",
     "text": [
      "1\n",
      "4\n",
      "9\n",
      "16\n",
      "25\n",
      "36\n",
      "49\n",
      "64\n",
      "81\n",
      "100\n",
      "121\n",
      "144\n",
      "169\n",
      "196\n",
      "225\n",
      "256\n",
      "289\n",
      "324\n",
      "361\n",
      "400\n",
      "441\n",
      "484\n",
      "529\n",
      "<class 'generator'>\n"
     ]
    }
   ],
   "source": [
    "#Generators\n",
    "import itertools as it\n",
    "\n",
    "squares =(x**2 for x in it.count(1) )\n",
    "\n",
    "for x in squares:\n",
    "    print(x)\n",
    "\n",
    "    if x>500:\n",
    "        squares.close()\n",
    "\n",
    "print(type(squares))"
   ]
  },
  {
   "cell_type": "code",
   "execution_count": null,
   "metadata": {},
   "outputs": [],
   "source": [
    "import itertools as it\n",
    "import sys\n",
    "\n",
    "squares = (x**2 for x in it.count(1) )\n",
    "\n",
    "print(sys.getsizeof(squares))"
   ]
  },
  {
   "cell_type": "code",
   "execution_count": 20,
   "metadata": {},
   "outputs": [
    {
     "name": "stdout",
     "output_type": "stream",
     "text": [
      "1\n",
      "2\n",
      "3\n"
     ]
    }
   ],
   "source": [
    "def g():\n",
    "    yield 1\n",
    "    yield 2\n",
    "    yield 3\n",
    "\n",
    "for x in g():\n",
    "    print(x)\n"
   ]
  },
  {
   "cell_type": "code",
   "execution_count": 21,
   "metadata": {},
   "outputs": [
    {
     "name": "stdout",
     "output_type": "stream",
     "text": [
      "Sam\n",
      "Jake\n",
      "Drake\n",
      "Harry\n"
     ]
    }
   ],
   "source": [
    "list1=['Sam', 'Jake', 'Drake', 'Harry']\n",
    "\n",
    "looper = iter(list1)\n",
    "\n",
    "while True:\n",
    "    try:\n",
    "        list1=next(looper)\n",
    "        print(list1)\n",
    "    except StopIteration:\n",
    "        break"
   ]
  },
  {
   "cell_type": "code",
   "execution_count": null,
   "metadata": {},
   "outputs": [],
   "source": []
  }
 ],
 "metadata": {
  "kernelspec": {
   "display_name": "Python 3 (ipykernel)",
   "language": "python",
   "name": "python3"
  },
  "language_info": {
   "codemirror_mode": {
    "name": "ipython",
    "version": 3
   },
   "file_extension": ".py",
   "mimetype": "text/x-python",
   "name": "python",
   "nbconvert_exporter": "python",
   "pygments_lexer": "ipython3",
   "version": "3.10.9"
  },
  "vscode": {
   "interpreter": {
    "hash": "7efa0102473cc365dc960628bc14c2fa509771872efd5c90b3fcbc26e1dc733a"
   }
  }
 },
 "nbformat": 4,
 "nbformat_minor": 2
}
